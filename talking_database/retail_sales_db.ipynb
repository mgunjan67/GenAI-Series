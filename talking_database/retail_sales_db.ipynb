{
 "cells": [
  {
   "cell_type": "markdown",
   "id": "e0c0d700",
   "metadata": {},
   "source": [
    "#### Connect with database and ask some basic questions"
   ]
  },
  {
   "cell_type": "code",
   "execution_count": 29,
   "id": "f48fbb53",
   "metadata": {},
   "outputs": [],
   "source": [
    "\n",
    "#from langchain_community.utilities import SQLDatabase\n",
    "from langchain_experimental.sql import SQLDatabaseChain\n",
    "\n",
    "from langchain.utilities import SQLDatabase\n"
   ]
  },
  {
   "cell_type": "code",
   "execution_count": null,
   "id": "23f9ae16",
   "metadata": {},
   "outputs": [
    {
     "name": "stdout",
     "output_type": "stream",
     "text": [
      "\n",
      "CREATE TABLE sales_tb (\n",
      "\t`TransactionID` INTEGER, \n",
      "\t`Date` DATE, \n",
      "\t`CustomerID` VARCHAR(10), \n",
      "\t`Gender` VARCHAR(10), \n",
      "\t`Age` INTEGER, \n",
      "\t`ProductCategory` VARCHAR(50), \n",
      "\t`Quantity` INTEGER, \n",
      "\t`PriceperUnit` DECIMAL(10, 2), \n",
      "\t`TotalAmount` DECIMAL(10, 2)\n",
      ")COLLATE utf8mb4_0900_ai_ci DEFAULT CHARSET=utf8mb4 ENGINE=InnoDB\n",
      "\n",
      "/*\n",
      "3 rows from sales_tb table:\n",
      "TransactionID\tDate\tCustomerID\tGender\tAge\tProductCategory\tQuantity\tPriceperUnit\tTotalAmount\n",
      "1\t2023-11-24\tCUST001\tMale\t34\tBeauty\t3\t50.00\t150.00\n",
      "2\t2023-02-27\tCUST002\tFemale\t26\tClothing\t2\t500.00\t1000.00\n",
      "3\t2023-01-13\tCUST003\tMale\t50\tElectronics\t1\t30.00\t30.00\n",
      "*/\n"
     ]
    }
   ],
   "source": [
    "db_user = \"root\"\n",
    "db_password = \"*******\"\n",
    "db_host = \"localhost\"\n",
    "db_name = \"retail_sales_db\"\n",
    "\n",
    "db = SQLDatabase.from_uri(f\"mysql+pymysql://{db_user}:{db_password}@{db_host}/{db_name}\",sample_rows_in_table_info=3)\n",
    "\n",
    "\n",
    "print(db.table_info)"
   ]
  },
  {
   "cell_type": "code",
   "execution_count": null,
   "id": "d3b79819",
   "metadata": {},
   "outputs": [
    {
     "name": "stdout",
     "output_type": "stream",
     "text": [
      "Here is the answer:\n",
      "\n",
      "Question: How many customers are there?\n",
      "SQLQuery: SELECT COUNT(DISTINCT `CustomerID`) AS `Number of Customers` FROM `sales_tb` LIMIT 1;\n"
     ]
    }
   ],
   "source": [
    "from langchain_groq import ChatGroq\n",
    "from langchain.chains import create_sql_query_chain\n",
    "from langchain_community.utilities import SQLDatabase\n",
    "\n",
    "\n",
    "# Use a supported model\n",
    "llm = ChatGroq(temperature=0, model_name=\"llama3-70b-8192\", api_key=\"gsk_6z*************3FYl5kO5sj6h18yN71qUyhVmhvC\")\n",
    "\n",
    "# Create the chain\n",
    "chain = create_sql_query_chain(llm, db)\n",
    "\n",
    "# Ask a question\n",
    "response = chain.invoke({\"question\": \"How many customers are there?\"})\n",
    "print(response)\n"
   ]
  },
  {
   "cell_type": "code",
   "execution_count": 32,
   "id": "529ac714-f926-4627-826d-16de9830aa5e",
   "metadata": {},
   "outputs": [
    {
     "name": "stdout",
     "output_type": "stream",
     "text": [
      "Here is the answer:\n",
      "\n",
      "Question: How many customers are there?\n",
      "SQLQuery: SELECT COUNT(DISTINCT `CustomerID`) AS `Number of Customers` FROM `sales_tb` LIMIT 1;\n"
     ]
    }
   ],
   "source": [
    "cleaned_query = response.strip('```sql\\n').strip('\\n```')\n",
    "print(cleaned_query)"
   ]
  },
  {
   "cell_type": "code",
   "execution_count": 33,
   "id": "fbafa328",
   "metadata": {},
   "outputs": [
    {
     "name": "stdout",
     "output_type": "stream",
     "text": [
      "['sales_tb']\n"
     ]
    }
   ],
   "source": [
    "from sqlalchemy import create_engine, inspect\n",
    "\n",
    "engine = create_engine(f\"mysql+pymysql://{db_user}:{db_password}@{db_host}/{db_name}\")\n",
    "inspector = inspect(engine)\n",
    "\n",
    "print(inspector.get_table_names())\n"
   ]
  },
  {
   "cell_type": "code",
   "execution_count": 34,
   "id": "04c61931",
   "metadata": {},
   "outputs": [
    {
     "name": "stdout",
     "output_type": "stream",
     "text": [
      "Cleaned SQL Query: SELECT COUNT(DISTINCT `CustomerID`) AS `Number of Customers` FROM `sales_tb` LIMIT 1;\n",
      "[(29,)]\n"
     ]
    }
   ],
   "source": [
    "import re\n",
    "\n",
    "# Sample response from the LLM\n",
    "# response = \"\"\"Here is the answer:\n",
    "\n",
    "# Question: How many customers are there?\n",
    "# SQLQuery: SELECT COUNT(*) FROM customers\n",
    "# \"\"\"\n",
    "\n",
    "# Extract only the SQL query using a regex\n",
    "match = re.search(r\"SELECT .*\", response, re.IGNORECASE | re.DOTALL)\n",
    "cleaned_query = match.group(0) if match else None\n",
    "\n",
    "if cleaned_query:\n",
    "    print(\"Cleaned SQL Query:\", cleaned_query)\n",
    "    result = db.run(cleaned_query)\n",
    "    print(result)\n",
    "else:\n",
    "    print(\"No valid SQL query found in the response.\")\n"
   ]
  },
  {
   "cell_type": "code",
   "execution_count": 37,
   "id": "775110eb",
   "metadata": {},
   "outputs": [],
   "source": [
    "# from sqlalchemy.exc import ProgrammingError"
   ]
  },
  {
   "cell_type": "code",
   "execution_count": 39,
   "id": "573e95b9-eb69-46e0-918b-62e114e6f0c0",
   "metadata": {},
   "outputs": [],
   "source": [
    "from sqlalchemy.exc import ProgrammingError\n",
    "import re\n",
    "\n",
    "def execute_query(question):\n",
    "    try:\n",
    "        # Generate SQL query from question\n",
    "        response = chain.invoke({\"question\": question})\n",
    "        print(response)\n",
    "        print(\"###################################################\")\n",
    "        \n",
    "        # Extract the actual SQL query using regex\n",
    "        match = re.search(r\"SELECT .*\", response, re.IGNORECASE | re.DOTALL)\n",
    "        cleaned_query = match.group(0) if match else None\n",
    "        print(cleaned_query)\n",
    "        print(\"###################################################\")        \n",
    "        \n",
    "        if cleaned_query:\n",
    "            # Execute the cleaned query\n",
    "            result = db.run(cleaned_query)\n",
    "            print(\"###################################################\")        \n",
    "            # Display the result\n",
    "            print(result)\n",
    "        else:\n",
    "            print(\"No valid SQL query found in the response.\")\n",
    "\n",
    "    except ProgrammingError as e:\n",
    "        print(f\"An error occurred: {e}\")\n"
   ]
  },
  {
   "cell_type": "code",
   "execution_count": 40,
   "id": "29ca3b54-d1ed-428f-a03c-9c337f41926e",
   "metadata": {},
   "outputs": [
    {
     "name": "stdout",
     "output_type": "stream",
     "text": [
      "Here is the answer:\n",
      "\n",
      "Question: How many unique customers are there for each product category\n",
      "SQLQuery: SELECT `ProductCategory`, COUNT(DISTINCT `CustomerID`) AS `UniqueCustomers` FROM `sales_tb` GROUP BY `ProductCategory` LIMIT 5;\n",
      "###################################################\n",
      "SELECT `ProductCategory`, COUNT(DISTINCT `CustomerID`) AS `UniqueCustomers` FROM `sales_tb` GROUP BY `ProductCategory` LIMIT 5;\n",
      "###################################################\n",
      "###################################################\n",
      "[('Beauty', 8), ('Clothing', 13), ('Electronics', 8)]\n"
     ]
    }
   ],
   "source": [
    "q1 = \"How many unique customers are there for each product category\"\n",
    "execute_query(q1)"
   ]
  },
  {
   "cell_type": "code",
   "execution_count": 41,
   "id": "aeda3451-5fc1-462b-8873-c09cc2401239",
   "metadata": {},
   "outputs": [
    {
     "name": "stdout",
     "output_type": "stream",
     "text": [
      "Here is the answer:\n",
      "\n",
      "Question: Calculate total sales amount per product category:\n",
      "SQLQuery: SELECT `ProductCategory`, SUM(`TotalAmount`) AS `TotalSalesAmount` FROM `sales_tb` GROUP BY `ProductCategory` LIMIT 5;\n",
      "###################################################\n",
      "SELECT `ProductCategory`, SUM(`TotalAmount`) AS `TotalSalesAmount` FROM `sales_tb` GROUP BY `ProductCategory` LIMIT 5;\n",
      "###################################################\n",
      "###################################################\n",
      "[('Beauty', Decimal('1455.00')), ('Clothing', Decimal('5040.00')), ('Electronics', Decimal('5310.00'))]\n"
     ]
    }
   ],
   "source": [
    "q2 = \"Calculate total sales amount per product category:\"\n",
    "execute_query(q2)"
   ]
  },
  {
   "cell_type": "code",
   "execution_count": 42,
   "id": "bc3ced61-e47e-47c1-b934-4cee3823219f",
   "metadata": {},
   "outputs": [
    {
     "name": "stdout",
     "output_type": "stream",
     "text": [
      "Here is the answer:\n",
      "\n",
      "Question: calculates the average age of customers grouped by gender.\n",
      "SQLQuery: SELECT `Gender`, AVG(`Age`) AS `AverageAge` FROM `sales_tb` GROUP BY `Gender` LIMIT 5;\n",
      "###################################################\n",
      "SELECT `Gender`, AVG(`Age`) AS `AverageAge` FROM `sales_tb` GROUP BY `Gender` LIMIT 5;\n",
      "###################################################\n",
      "###################################################\n",
      "[('Male', Decimal('35.2143')), ('Female', Decimal('43.3333'))]\n"
     ]
    }
   ],
   "source": [
    "q3 = \"calculates the average age of customers grouped by gender.\"\n",
    "execute_query(q3)"
   ]
  },
  {
   "cell_type": "code",
   "execution_count": 43,
   "id": "52d613ed",
   "metadata": {},
   "outputs": [
    {
     "name": "stdout",
     "output_type": "stream",
     "text": [
      "Here is the answer:\n",
      "\n",
      "Question: identify the top spending customers based on their total amount spent.\n",
      "SQLQuery: SELECT `CustomerID`, SUM(`TotalAmount`) AS `TotalSpent` FROM `sales_tb` GROUP BY `CustomerID` ORDER BY `TotalSpent` DESC LIMIT 5;\n",
      "###################################################\n",
      "SELECT `CustomerID`, SUM(`TotalAmount`) AS `TotalSpent` FROM `sales_tb` GROUP BY `CustomerID` ORDER BY `TotalSpent` DESC LIMIT 5;\n",
      "###################################################\n",
      "###################################################\n",
      "[('CUST015', Decimal('2000.00')), ('CUST013', Decimal('1500.00')), ('CUST016', Decimal('1500.00')), ('CUST002', Decimal('1000.00')), ('CUST026', Decimal('1000.00'))]\n"
     ]
    }
   ],
   "source": [
    "q4 = \"identify the top spending customers based on their total amount spent.\"\n",
    "execute_query(q4)"
   ]
  },
  {
   "cell_type": "code",
   "execution_count": 44,
   "id": "7da6c762",
   "metadata": {},
   "outputs": [
    {
     "name": "stdout",
     "output_type": "stream",
     "text": [
      "Here is the answer:\n",
      "\n",
      "Question: counts the number of transactions made each month.\n",
      "SQLQuery: SELECT MONTH(`Date`) AS `Month`, COUNT(`TransactionID`) AS `TransactionCount` FROM sales_tb GROUP BY MONTH(`Date`) ORDER BY `Month` LIMIT 5;\n",
      "###################################################\n",
      "SELECT MONTH(`Date`) AS `Month`, COUNT(`TransactionID`) AS `TransactionCount` FROM sales_tb GROUP BY MONTH(`Date`) ORDER BY `Month` LIMIT 5;\n",
      "###################################################\n",
      "###################################################\n",
      "[(1, 4), (2, 4), (3, 1), (4, 5), (5, 2)]\n"
     ]
    }
   ],
   "source": [
    "q5 = \"counts the number of transactions made each month.\"\n",
    "execute_query(q5)"
   ]
  },
  {
   "cell_type": "code",
   "execution_count": 45,
   "id": "c45b1a6d-c06b-461a-a407-50c7c43b019e",
   "metadata": {},
   "outputs": [
    {
     "name": "stdout",
     "output_type": "stream",
     "text": [
      "Here is the answer:\n",
      "\n",
      "Question: calculates the total sales amount and average price per unit for each product category.\n",
      "SQLQuery: SELECT `ProductCategory`, SUM(`TotalAmount`) AS `TotalSalesAmount`, AVG(`PriceperUnit`) AS `AveragePriceperUnit` FROM `sales_tb` GROUP BY `ProductCategory` LIMIT 5;\n",
      "###################################################\n",
      "SELECT `ProductCategory`, SUM(`TotalAmount`) AS `TotalSalesAmount`, AVG(`PriceperUnit`) AS `AveragePriceperUnit` FROM `sales_tb` GROUP BY `ProductCategory` LIMIT 5;\n",
      "###################################################\n",
      "###################################################\n",
      "[('Beauty', Decimal('1455.00'), Decimal('153.750000')), ('Clothing', Decimal('5040.00'), Decimal('183.461538')), ('Electronics', Decimal('5310.00'), Decimal('238.750000'))]\n"
     ]
    }
   ],
   "source": [
    "q6 = \"calculates the total sales amount and average price per unit for each product category.\"\n",
    "execute_query(q6)"
   ]
  }
 ],
 "metadata": {
  "kernelspec": {
   "display_name": "env_langchain1",
   "language": "python",
   "name": "python3"
  },
  "language_info": {
   "codemirror_mode": {
    "name": "ipython",
    "version": 3
   },
   "file_extension": ".py",
   "mimetype": "text/x-python",
   "name": "python",
   "nbconvert_exporter": "python",
   "pygments_lexer": "ipython3",
   "version": "3.10.16"
  }
 },
 "nbformat": 4,
 "nbformat_minor": 5
}
